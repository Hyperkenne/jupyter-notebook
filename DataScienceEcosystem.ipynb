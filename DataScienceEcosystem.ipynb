{
 "cells": [
  {
   "cell_type": "markdown",
   "id": "55c6d085-62bc-4061-bb18-0be686da8e64",
   "metadata": {},
   "source": [
    "Data Science Tools and Ecosystem"
   ]
  },
  {
   "cell_type": "markdown",
   "id": "df1967dc-cad8-4baa-804a-8e7150744fca",
   "metadata": {},
   "source": [
    "In this notebook, Data Science Tools and Ecosystem are summarized."
   ]
  },
  {
   "cell_type": "markdown",
   "id": "122b8e50-89f9-4be9-bdd6-9fd1c4c387b3",
   "metadata": {},
   "source": [
    "Some of the popular languages that Data Scientists use are:\n",
    "1.Python.\n",
    "2.R language.\n",
    "3.Scala.\n",
    "4.Julia."
   ]
  },
  {
   "cell_type": "markdown",
   "id": "0b1c229a-f8c1-46cd-a7dc-152fe0770f26",
   "metadata": {},
   "source": [
    "Some of the commonly used libraries used by Data Scientists include:\n",
    "1.vega.\n",
    "2.ggplot2.\n",
    "3.pandas.\n",
    "4.pytorch."
   ]
  },
  {
   "cell_type": "markdown",
   "id": "7621503c-194d-4f19-af90-36dbaa35770e",
   "metadata": {},
   "source": [
    "| Data Science Tools |\n",
    "|--------------------|\n",
    "| Jupyter Notebooks |\n",
    "| RStudio            |\n",
    "| VS Code            |\n"
   ]
  },
  {
   "cell_type": "markdown",
   "id": "203d315f-28d9-4973-a4f5-baaa7eb97317",
   "metadata": {},
   "source": [
    "### Examples of Evaluating Arithmetic Expressions in Python\n",
    "\n",
    "Arithmetic expressions are fundamental in programming. Below are a few examples demonstrating how arithmetic expressions are evaluated in Python:\n"
   ]
  },
  {
   "cell_type": "code",
   "execution_count": 1,
   "id": "5820a46f-e90b-4e2f-be8e-b2a0f6e72390",
   "metadata": {
    "tags": []
   },
   "outputs": [
    {
     "data": {
      "text/plain": [
       "17"
      ]
     },
     "execution_count": 1,
     "metadata": {},
     "output_type": "execute_result"
    }
   ],
   "source": [
    "# This is a simple arithmetic expression to multiply then add integers\n",
    "result = (3 * 4) + 5\n",
    "result"
   ]
  },
  {
   "cell_type": "code",
   "execution_count": 2,
   "id": "e1e9f0de-5ab5-4833-90cc-74c657c96219",
   "metadata": {
    "tags": []
   },
   "outputs": [
    {
     "data": {
      "text/plain": [
       "3.3333333333333335"
      ]
     },
     "execution_count": 2,
     "metadata": {},
     "output_type": "execute_result"
    }
   ],
   "source": [
    "# This will convert 200 minutes to hours by dividing by 60\n",
    "minutes = 200\n",
    "hours = minutes / 60\n",
    "hours"
   ]
  },
  {
   "cell_type": "markdown",
   "id": "128db067-9213-48a9-bee9-b9d001b964db",
   "metadata": {},
   "source": [
    "**Objectives:**\n",
    "\n",
    "- List of popular languages for Data Science.\n",
    "- Introduction to arithmetic expressions in Python.\n",
    "- Demonstration of conversion of units (minutes to hours).\n"
   ]
  },
  {
   "cell_type": "markdown",
   "id": "9e987294-f136-4a1e-8674-606b3f44bc54",
   "metadata": {},
   "source": [
    "## Author\n",
    "\n",
    "KENNEDY BENARD\n"
   ]
  },
  {
   "cell_type": "code",
   "execution_count": null,
   "id": "ccc642e3-6aa4-4fd3-ac4f-8acdeca9f6ed",
   "metadata": {},
   "outputs": [],
   "source": []
  }
 ],
 "metadata": {
  "kernelspec": {
   "display_name": "Python",
   "language": "python",
   "name": "conda-env-python-py"
  },
  "language_info": {
   "codemirror_mode": {
    "name": "ipython",
    "version": 3
   },
   "file_extension": ".py",
   "mimetype": "text/x-python",
   "name": "python",
   "nbconvert_exporter": "python",
   "pygments_lexer": "ipython3",
   "version": "3.7.12"
  }
 },
 "nbformat": 4,
 "nbformat_minor": 5
}
